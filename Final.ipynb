{
 "cells": [
  {
   "cell_type": "code",
   "execution_count": 6,
   "id": "3c2541e7",
   "metadata": {},
   "outputs": [
    {
     "name": "stdout",
     "output_type": "stream",
     "text": [
      "                 Cases  New Cases\n",
      "2021-10-20  34127450.0    18454.0\n",
      "2021-10-21  34143236.0    15786.0\n",
      "2021-10-22  34159562.0    16326.0\n",
      "2021-10-23  34175468.0    15906.0\n",
      "2021-10-24  34189774.0    14306.0\n",
      "                 Cases  New Cases\n",
      "2021-10-25  34202202.0    12428.0\n",
      "2021-10-26  34215653.0    13451.0\n",
      "2021-10-27  34231809.0    16156.0\n",
      "2021-10-28  34246157.0    14348.0\n",
      "2021-10-29  34260470.0    14313.0\n",
      "2021-10-30  34273300.0    12830.0\n",
      "2021-10-31  34285814.0    12514.0\n",
      "2021-11-01  34296237.0    10423.0\n",
      "2021-11-02  34308140.0    11903.0\n",
      "2021-11-03  34321025.0    12885.0\n",
      "2021-11-04  34333754.0    12729.0\n",
      "2021-11-05  34344683.0    10929.0\n",
      "2021-11-06  34355509.0    10826.0\n",
      "2021-11-07  34366987.0    11478.0\n",
      "2021-11-08  34377113.0    10126.0\n",
      "2021-11-09  34388579.0    11466.0\n",
      "2021-11-10  34401670.0    13091.0\n",
      "2021-11-11  34414186.0    12516.0\n",
      "2021-11-12  34426036.0    11850.0\n",
      "2021-11-13  34437307.0    11271.0\n",
      "2021-11-14  34447536.0    10229.0\n",
      "2021-11-15  34456401.0     8865.0\n",
      "2021-11-16  34466598.0    10197.0\n",
      "2021-11-17  34478517.0    11919.0\n",
      "2021-11-18  34489623.0    11106.0\n",
      "2021-11-19  34499925.0    10302.0\n",
      "2021-11-20  34510413.0    10488.0\n",
      "2021-11-21  34518901.0     8488.0\n",
      "2021-11-22  34526480.0     7579.0\n",
      "2021-11-23  34535763.0     9283.0\n",
      "2021-11-24  34544882.0     9119.0\n",
      "2021-11-25  34555431.0    10549.0\n"
     ]
    }
   ],
   "source": [
    "import numpy as np\n",
    "import pandas as pd\n",
    "import matplotlib.pyplot as plt\n",
    "import seaborn as sns\n",
    "\n",
    "df = pd.read_csv(\"https://raw.githubusercontent.com/CSSEGISandData/COVID-19/master/csse_covid_19_data/csse_covid_19_time_series/time_series_covid19_confirmed_global.csv\", header = None)\n",
    "\n",
    "india_df = pd.DataFrame(df[df[1] == \"India\"].transpose().values, df.iloc[0].values)\n",
    "\n",
    "india_df.columns=['Cases'] \n",
    "\n",
    "india_df = india_df.drop(labels=[\"Province/State\", \"Country/Region\", \"Lat\", \"Long\"], axis=0)\n",
    "\n",
    "india_df.index = pd.to_datetime(india_df.index)\n",
    "india_df['Cases'] = india_df['Cases'].astype(float)\n",
    "\n",
    "india_df['New Cases']= india_df['Cases']-india_df['Cases'].shift(1)\n",
    "\n",
    "test = india_df[-34:-2]\n",
    "\n",
    "india_df = india_df[:-34]\n",
    "\n",
    "print(india_df.tail())\n",
    "\n",
    "print(test)"
   ]
  },
  {
   "cell_type": "code",
   "execution_count": 7,
   "id": "33020cbd",
   "metadata": {},
   "outputs": [
    {
     "data": {
      "image/png": "[encoded data removed]",
      "text/plain": [
       "<Figure size 864x216 with 1 Axes>"
      ]
     },
     "metadata": {},
     "output_type": "display_data"
    }
   ],
   "source": [
    "sns.set(font_scale=0.8)\n",
    "\n",
    "plt.figure(figsize = (12, 3))\n",
    "\n",
    "ax = sns.lineplot(x = india_df.index, y  = \"New Cases\", data = india_df)\n",
    "\n",
    "plt.title(\"New Cases in India\")\n",
    "plt.show()"
   ]
  },
  {
   "cell_type": "code",
   "execution_count": 11,
   "id": "15083682",
   "metadata": {},
   "outputs": [
    {
     "data": {
      "text/html": [
       "<div>\n",
       "<style scoped>\n",
       "    .dataframe tbody tr th:only-of-type {\n",
       "        vertical-align: middle;\n",
       "    }\n",
       "\n",
       "    .dataframe tbody tr th {\n",
       "        vertical-align: top;\n",
       "    }\n",
       "\n",
       "    .dataframe thead th {\n",
       "        text-align: right;\n",
       "    }\n",
       "</style>\n",
       "<table border=\"1\" class=\"dataframe\">\n",
       "  <thead>\n",
       "    <tr style=\"text-align: right;\">\n",
       "      <th></th>\n",
       "      <th>Cases</th>\n",
       "      <th>New Cases</th>\n",
       "    </tr>\n",
       "  </thead>\n",
       "  <tbody>\n",
       "    <tr>\n",
       "      <th>2020-01-30</th>\n",
       "      <td>1.0</td>\n",
       "      <td>1.0</td>\n",
       "    </tr>\n",
       "    <tr>\n",
       "      <th>2020-02-02</th>\n",
       "      <td>2.0</td>\n",
       "      <td>1.0</td>\n",
       "    </tr>\n",
       "    <tr>\n",
       "      <th>2020-02-03</th>\n",
       "      <td>3.0</td>\n",
       "      <td>1.0</td>\n",
       "    </tr>\n",
       "    <tr>\n",
       "      <th>2020-03-02</th>\n",
       "      <td>5.0</td>\n",
       "      <td>2.0</td>\n",
       "    </tr>\n",
       "    <tr>\n",
       "      <th>2020-03-04</th>\n",
       "      <td>28.0</td>\n",
       "      <td>23.0</td>\n",
       "    </tr>\n",
       "    <tr>\n",
       "      <th>...</th>\n",
       "      <td>...</td>\n",
       "      <td>...</td>\n",
       "    </tr>\n",
       "    <tr>\n",
       "      <th>2021-10-20</th>\n",
       "      <td>34127450.0</td>\n",
       "      <td>18454.0</td>\n",
       "    </tr>\n",
       "    <tr>\n",
       "      <th>2021-10-21</th>\n",
       "      <td>34143236.0</td>\n",
       "      <td>15786.0</td>\n",
       "    </tr>\n",
       "    <tr>\n",
       "      <th>2021-10-22</th>\n",
       "      <td>34159562.0</td>\n",
       "      <td>16326.0</td>\n",
       "    </tr>\n",
       "    <tr>\n",
       "      <th>2021-10-23</th>\n",
       "      <td>34175468.0</td>\n",
       "      <td>15906.0</td>\n",
       "    </tr>\n",
       "    <tr>\n",
       "      <th>2021-10-24</th>\n",
       "      <td>34189774.0</td>\n",
       "      <td>14306.0</td>\n",
       "    </tr>\n",
       "  </tbody>\n",
       "</table>\n",
       "<p>602 rows × 2 columns</p>\n",
       "</div>"
      ],
      "text/plain": [
       "                 Cases  New Cases\n",
       "2020-01-30         1.0        1.0\n",
       "2020-02-02         2.0        1.0\n",
       "2020-02-03         3.0        1.0\n",
       "2020-03-02         5.0        2.0\n",
       "2020-03-04        28.0       23.0\n",
       "...                ...        ...\n",
       "2021-10-20  34127450.0    18454.0\n",
       "2021-10-21  34143236.0    15786.0\n",
       "2021-10-22  34159562.0    16326.0\n",
       "2021-10-23  34175468.0    15906.0\n",
       "2021-10-24  34189774.0    14306.0\n",
       "\n",
       "[602 rows x 2 columns]"
      ]
     },
     "execution_count": 11,
     "metadata": {},
     "output_type": "execute_result"
    }
   ],
   "source": [
    "# Dropping New Cases = 0 Values\n",
    "india_df[india_df[\"New Cases\"] == 0]\n",
    "india_df.drop(india_df.index[india_df[\"New Cases\"] == 0], axis = 0, inplace = True)\n",
    "india_df.dropna()"
   ]
  },
  {
   "cell_type": "code",
   "execution_count": 14,
   "id": "a36f09bd",
   "metadata": {},
   "outputs": [
    {
     "data": {
      "text/plain": [
       "[<matplotlib.lines.Line2D at 0x17d639fabb0>]"
      ]
     },
     "execution_count": 14,
     "metadata": {},
     "output_type": "execute_result"
    },
    {
     "data": {
      "image/png": "[encoded data removed]",
      "text/plain": [
       "<Figure size 432x288 with 1 Axes>"
      ]
     },
     "metadata": {},
     "output_type": "display_data"
    }
   ],
   "source": [
    "current_death_plot = india_df[-120:]\n",
    "plt.plot(current_death_plot[\"New Cases\"])"
   ]
  },
  {
   "cell_type": "code",
   "execution_count": 15,
   "id": "d3bf31f7",
   "metadata": {},
   "outputs": [
    {
     "name": "stdout",
     "output_type": "stream",
     "text": [
      "ADF Test Statistic : 0.15667085139650766\n",
      "p-value : 0.9697239635404193\n",
      "#Lags Used : 13\n",
      "Number of Observations Used : 106\n",
      "weak evidence against null hypothesis, time series has a unit root, indicating it is non-stationary \n"
     ]
    }
   ],
   "source": [
    "### Testing For Stationarity\n",
    "\n",
    "from statsmodels.tsa.stattools import adfuller\n",
    "#test_result=adfuller(total_death_plot.iloc[-100:]['new_cases'])\n",
    "\n",
    "\n",
    "#Ho: It is non stationary\n",
    "#H1: It is stationary\n",
    "\n",
    "def adfuller_test(data):\n",
    "    result=adfuller(data)\n",
    "    labels = ['ADF Test Statistic','p-value','#Lags Used','Number of Observations Used']\n",
    "    for value,label in zip(result,labels):\n",
    "        print(label+' : '+str(value) )\n",
    "    if result[1] <= 0.05:\n",
    "        print(\"strong evidence against the null hypothesis(Ho), reject the null hypothesis. Data has no unit root and is stationary\")\n",
    "    else:\n",
    "        print(\"weak evidence against null hypothesis, time series has a unit root, indicating it is non-stationary \")\n",
    "        \n",
    "adfuller_test(current_death_plot['New Cases'])"
   ]
  },
  {
   "cell_type": "markdown",
   "id": "39866221",
   "metadata": {},
   "source": [
    "# PACF and ACF Plots"
   ]
  },
  {
   "cell_type": "code",
   "execution_count": 16,
   "id": "77e74b86",
   "metadata": {},
   "outputs": [
    {
     "data": {
      "image/png": "[encoded data removed]",
      "text/plain": [
       "<Figure size 864x576 with 2 Axes>"
      ]
     },
     "metadata": {},
     "output_type": "display_data"
    }
   ],
   "source": [
    "from statsmodels.graphics.tsaplots import plot_acf,plot_pacf\n",
    "import statsmodels.api as sm\n",
    "fig = plt.figure(figsize=(12,8))\n",
    "ax1 = fig.add_subplot(211)\n",
    "fig = sm.graphics.tsa.plot_acf(current_death_plot['New Cases'].diff()[1:], ax=ax1)\n",
    "ax2 = fig.add_subplot(212)\n",
    "fig = sm.graphics.tsa.plot_pacf(current_death_plot['New Cases'].diff()[1:], ax=ax2)"
   ]
  },
  {
   "cell_type": "markdown",
   "id": "3306c794",
   "metadata": {},
   "source": [
    "## Plots indicate a ARIMA(2, 1, 2) Model\n"
   ]
  },
  {
   "cell_type": "code",
   "execution_count": 17,
   "id": "e3c5cbb5",
   "metadata": {},
   "outputs": [
    {
     "name": "stdout",
     "output_type": "stream",
     "text": [
      "Performing stepwise search to minimize aic\n",
      " ARIMA(2,1,2)(0,0,0)[0] intercept   : AIC=2433.073, Time=0.20 sec\n",
      " ARIMA(0,1,0)(0,0,0)[0] intercept   : AIC=2455.497, Time=0.02 sec\n",
      " ARIMA(1,1,0)(0,0,0)[0] intercept   : AIC=2447.467, Time=0.04 sec\n",
      " ARIMA(0,1,1)(0,0,0)[0] intercept   : AIC=2435.070, Time=0.04 sec\n",
      " ARIMA(0,1,0)(0,0,0)[0]             : AIC=2453.708, Time=0.01 sec\n",
      " ARIMA(1,1,2)(0,0,0)[0] intercept   : AIC=2430.111, Time=0.09 sec\n",
      " ARIMA(0,1,2)(0,0,0)[0] intercept   : AIC=2425.164, Time=0.19 sec\n",
      " ARIMA(0,1,3)(0,0,0)[0] intercept   : AIC=2434.327, Time=0.07 sec\n",
      " ARIMA(1,1,1)(0,0,0)[0] intercept   : AIC=2428.392, Time=0.19 sec\n",
      " ARIMA(1,1,3)(0,0,0)[0] intercept   : AIC=2430.502, Time=0.14 sec\n",
      " ARIMA(0,1,2)(0,0,0)[0]             : AIC=2424.723, Time=0.06 sec\n",
      " ARIMA(0,1,1)(0,0,0)[0]             : AIC=2432.032, Time=0.03 sec\n",
      " ARIMA(1,1,2)(0,0,0)[0]             : AIC=2424.132, Time=0.07 sec\n",
      " ARIMA(1,1,1)(0,0,0)[0]             : AIC=2427.938, Time=0.05 sec\n",
      " ARIMA(2,1,2)(0,0,0)[0]             : AIC=2426.210, Time=0.10 sec\n",
      " ARIMA(1,1,3)(0,0,0)[0]             : AIC=2426.096, Time=0.15 sec\n",
      " ARIMA(0,1,3)(0,0,0)[0]             : AIC=2425.048, Time=0.06 sec\n",
      " ARIMA(2,1,1)(0,0,0)[0]             : AIC=2427.813, Time=0.10 sec\n",
      " ARIMA(2,1,3)(0,0,0)[0]             : AIC=2428.014, Time=0.19 sec\n",
      "\n",
      "Best model:  ARIMA(1,1,2)(0,0,0)[0]          \n",
      "Total fit time: 1.817 seconds\n"
     ]
    },
    {
     "data": {
      "text/html": [
       "<table class=\"simpletable\">\n",
       "<caption>SARIMAX Results</caption>\n",
       "<tr>\n",
       "  <th>Dep. Variable:</th>           <td>y</td>        <th>  No. Observations:  </th>    <td>120</td>   \n",
       "</tr>\n",
       "<tr>\n",
       "  <th>Model:</th>           <td>SARIMAX(1, 1, 2)</td> <th>  Log Likelihood     </th> <td>-1208.066</td>\n",
       "</tr>\n",
       "<tr>\n",
       "  <th>Date:</th>            <td>Sun, 28 Nov 2021</td> <th>  AIC                </th> <td>2424.132</td> \n",
       "</tr>\n",
       "<tr>\n",
       "  <th>Time:</th>                <td>10:56:07</td>     <th>  BIC                </th> <td>2435.248</td> \n",
       "</tr>\n",
       "<tr>\n",
       "  <th>Sample:</th>                  <td>0</td>        <th>  HQIC               </th> <td>2428.646</td> \n",
       "</tr>\n",
       "<tr>\n",
       "  <th></th>                      <td> - 120</td>      <th>                     </th>     <td> </td>    \n",
       "</tr>\n",
       "<tr>\n",
       "  <th>Covariance Type:</th>        <td>opg</td>       <th>                     </th>     <td> </td>    \n",
       "</tr>\n",
       "</table>\n",
       "<table class=\"simpletable\">\n",
       "<tr>\n",
       "     <td></td>       <th>coef</th>     <th>std err</th>      <th>z</th>      <th>P>|z|</th>  <th>[0.025</th>    <th>0.975]</th>  \n",
       "</tr>\n",
       "<tr>\n",
       "  <th>ar.L1</th>  <td>   -0.3920</td> <td>    0.201</td> <td>   -1.948</td> <td> 0.051</td> <td>   -0.786</td> <td>    0.002</td>\n",
       "</tr>\n",
       "<tr>\n",
       "  <th>ma.L1</th>  <td>   -0.0731</td> <td>    0.210</td> <td>   -0.348</td> <td> 0.728</td> <td>   -0.485</td> <td>    0.339</td>\n",
       "</tr>\n",
       "<tr>\n",
       "  <th>ma.L2</th>  <td>   -0.5030</td> <td>    0.110</td> <td>   -4.571</td> <td> 0.000</td> <td>   -0.719</td> <td>   -0.287</td>\n",
       "</tr>\n",
       "<tr>\n",
       "  <th>sigma2</th> <td> 3.631e+07</td> <td> 2.69e-08</td> <td> 1.35e+15</td> <td> 0.000</td> <td> 3.63e+07</td> <td> 3.63e+07</td>\n",
       "</tr>\n",
       "</table>\n",
       "<table class=\"simpletable\">\n",
       "<tr>\n",
       "  <th>Ljung-Box (L1) (Q):</th>     <td>0.02</td> <th>  Jarque-Bera (JB):  </th> <td>1379.84</td>\n",
       "</tr>\n",
       "<tr>\n",
       "  <th>Prob(Q):</th>                <td>0.88</td> <th>  Prob(JB):          </th>  <td>0.00</td>  \n",
       "</tr>\n",
       "<tr>\n",
       "  <th>Heteroskedasticity (H):</th> <td>0.11</td> <th>  Skew:              </th>  <td>2.24</td>  \n",
       "</tr>\n",
       "<tr>\n",
       "  <th>Prob(H) (two-sided):</th>    <td>0.00</td> <th>  Kurtosis:          </th>  <td>19.07</td> \n",
       "</tr>\n",
       "</table><br/><br/>Warnings:<br/>[1] Covariance matrix calculated using the outer product of gradients (complex-step).<br/>[2] Covariance matrix is singular or near-singular, with condition number 2.46e+31. Standard errors may be unstable."
      ],
      "text/plain": [
       "<class 'statsmodels.iolib.summary.Summary'>\n",
       "\"\"\"\n",
       "                               SARIMAX Results                                \n",
       "==============================================================================\n",
       "Dep. Variable:                      y   No. Observations:                  120\n",
       "Model:               SARIMAX(1, 1, 2)   Log Likelihood               -1208.066\n",
       "Date:                Sun, 28 Nov 2021   AIC                           2424.132\n",
       "Time:                        10:56:07   BIC                           2435.248\n",
       "Sample:                             0   HQIC                          2428.646\n",
       "                                - 120                                         \n",
       "Covariance Type:                  opg                                         \n",
       "==============================================================================\n",
       "                 coef    std err          z      P>|z|      [0.025      0.975]\n",
       "------------------------------------------------------------------------------\n",
       "ar.L1         -0.3920      0.201     -1.948      0.051      -0.786       0.002\n",
       "ma.L1         -0.0731      0.210     -0.348      0.728      -0.485       0.339\n",
       "ma.L2         -0.5030      0.110     -4.571      0.000      -0.719      -0.287\n",
       "sigma2      3.631e+07   2.69e-08   1.35e+15      0.000    3.63e+07    3.63e+07\n",
       "===================================================================================\n",
       "Ljung-Box (L1) (Q):                   0.02   Jarque-Bera (JB):              1379.84\n",
       "Prob(Q):                              0.88   Prob(JB):                         0.00\n",
       "Heteroskedasticity (H):               0.11   Skew:                             2.24\n",
       "Prob(H) (two-sided):                  0.00   Kurtosis:                        19.07\n",
       "===================================================================================\n",
       "\n",
       "Warnings:\n",
       "[1] Covariance matrix calculated using the outer product of gradients (complex-step).\n",
       "[2] Covariance matrix is singular or near-singular, with condition number 2.46e+31. Standard errors may be unstable.\n",
       "\"\"\""
      ]
     },
     "execution_count": 17,
     "metadata": {},
     "output_type": "execute_result"
    }
   ],
   "source": [
    "from pmdarima import auto_arima\n",
    "\n",
    "import warnings\n",
    "\n",
    "warnings.filterwarnings(\"ignore\")\n",
    "\n",
    "\n",
    "stepwise_fit = auto_arima(current_death_plot[\"New Cases\"], stepwise=True, trace = True, suppress_warnings = True)\n",
    "\n",
    "stepwise_fit.summary()"
   ]
  },
  {
   "cell_type": "code",
   "execution_count": 49,
   "id": "991879a4",
   "metadata": {},
   "outputs": [
    {
     "data": {
      "text/html": [
       "<table class=\"simpletable\">\n",
       "<caption>SARIMAX Results</caption>\n",
       "<tr>\n",
       "  <th>Dep. Variable:</th>       <td>New Cases</td>    <th>  No. Observations:  </th>    <td>120</td>   \n",
       "</tr>\n",
       "<tr>\n",
       "  <th>Model:</th>            <td>ARIMA(2, 1, 2)</td>  <th>  Log Likelihood     </th> <td>-1208.105</td>\n",
       "</tr>\n",
       "<tr>\n",
       "  <th>Date:</th>            <td>Sun, 28 Nov 2021</td> <th>  AIC                </th> <td>2426.210</td> \n",
       "</tr>\n",
       "<tr>\n",
       "  <th>Time:</th>                <td>11:08:24</td>     <th>  BIC                </th> <td>2440.106</td> \n",
       "</tr>\n",
       "<tr>\n",
       "  <th>Sample:</th>                  <td>0</td>        <th>  HQIC               </th> <td>2431.853</td> \n",
       "</tr>\n",
       "<tr>\n",
       "  <th></th>                      <td> - 120</td>      <th>                     </th>     <td> </td>    \n",
       "</tr>\n",
       "<tr>\n",
       "  <th>Covariance Type:</th>        <td>opg</td>       <th>                     </th>     <td> </td>    \n",
       "</tr>\n",
       "</table>\n",
       "<table class=\"simpletable\">\n",
       "<tr>\n",
       "     <td></td>       <th>coef</th>     <th>std err</th>      <th>z</th>      <th>P>|z|</th>  <th>[0.025</th>    <th>0.975]</th>  \n",
       "</tr>\n",
       "<tr>\n",
       "  <th>ar.L1</th>  <td>   -0.3921</td> <td>    0.229</td> <td>   -1.716</td> <td> 0.086</td> <td>   -0.840</td> <td>    0.056</td>\n",
       "</tr>\n",
       "<tr>\n",
       "  <th>ar.L2</th>  <td>    0.0225</td> <td>    0.192</td> <td>    0.117</td> <td> 0.907</td> <td>   -0.353</td> <td>    0.398</td>\n",
       "</tr>\n",
       "<tr>\n",
       "  <th>ma.L1</th>  <td>   -0.0690</td> <td>    0.242</td> <td>   -0.285</td> <td> 0.776</td> <td>   -0.543</td> <td>    0.405</td>\n",
       "</tr>\n",
       "<tr>\n",
       "  <th>ma.L2</th>  <td>   -0.5208</td> <td>    0.237</td> <td>   -2.194</td> <td> 0.028</td> <td>   -0.986</td> <td>   -0.056</td>\n",
       "</tr>\n",
       "<tr>\n",
       "  <th>sigma2</th> <td> 3.575e+07</td> <td>  4.2e-08</td> <td>  8.5e+14</td> <td> 0.000</td> <td> 3.58e+07</td> <td> 3.58e+07</td>\n",
       "</tr>\n",
       "</table>\n",
       "<table class=\"simpletable\">\n",
       "<tr>\n",
       "  <th>Ljung-Box (L1) (Q):</th>     <td>0.05</td> <th>  Jarque-Bera (JB):  </th> <td>1393.70</td>\n",
       "</tr>\n",
       "<tr>\n",
       "  <th>Prob(Q):</th>                <td>0.83</td> <th>  Prob(JB):          </th>  <td>0.00</td>  \n",
       "</tr>\n",
       "<tr>\n",
       "  <th>Heteroskedasticity (H):</th> <td>0.11</td> <th>  Skew:              </th>  <td>2.24</td>  \n",
       "</tr>\n",
       "<tr>\n",
       "  <th>Prob(H) (two-sided):</th>    <td>0.00</td> <th>  Kurtosis:          </th>  <td>19.15</td> \n",
       "</tr>\n",
       "</table><br/><br/>Warnings:<br/>[1] Covariance matrix calculated using the outer product of gradients (complex-step).<br/>[2] Covariance matrix is singular or near-singular, with condition number 5.96e+29. Standard errors may be unstable."
      ],
      "text/plain": [
       "<class 'statsmodels.iolib.summary.Summary'>\n",
       "\"\"\"\n",
       "                               SARIMAX Results                                \n",
       "==============================================================================\n",
       "Dep. Variable:              New Cases   No. Observations:                  120\n",
       "Model:                 ARIMA(2, 1, 2)   Log Likelihood               -1208.105\n",
       "Date:                Sun, 28 Nov 2021   AIC                           2426.210\n",
       "Time:                        11:08:24   BIC                           2440.106\n",
       "Sample:                             0   HQIC                          2431.853\n",
       "                                - 120                                         \n",
       "Covariance Type:                  opg                                         \n",
       "==============================================================================\n",
       "                 coef    std err          z      P>|z|      [0.025      0.975]\n",
       "------------------------------------------------------------------------------\n",
       "ar.L1         -0.3921      0.229     -1.716      0.086      -0.840       0.056\n",
       "ar.L2          0.0225      0.192      0.117      0.907      -0.353       0.398\n",
       "ma.L1         -0.0690      0.242     -0.285      0.776      -0.543       0.405\n",
       "ma.L2         -0.5208      0.237     -2.194      0.028      -0.986      -0.056\n",
       "sigma2      3.575e+07    4.2e-08    8.5e+14      0.000    3.58e+07    3.58e+07\n",
       "===================================================================================\n",
       "Ljung-Box (L1) (Q):                   0.05   Jarque-Bera (JB):              1393.70\n",
       "Prob(Q):                              0.83   Prob(JB):                         0.00\n",
       "Heteroskedasticity (H):               0.11   Skew:                             2.24\n",
       "Prob(H) (two-sided):                  0.00   Kurtosis:                        19.15\n",
       "===================================================================================\n",
       "\n",
       "Warnings:\n",
       "[1] Covariance matrix calculated using the outer product of gradients (complex-step).\n",
       "[2] Covariance matrix is singular or near-singular, with condition number 5.96e+29. Standard errors may be unstable.\n",
       "\"\"\""
      ]
     },
     "execution_count": 49,
     "metadata": {},
     "output_type": "execute_result"
    }
   ],
   "source": [
    "from statsmodels.tsa.arima.model import ARIMA\n",
    "\n",
    "testing_data = test\n",
    "\n",
    "model=ARIMA(current_death_plot['New Cases'],order=(2, 1, 2))\n",
    "model_fit=model.fit()\n",
    "\n",
    "model_fit.summary()"
   ]
  },
  {
   "cell_type": "code",
   "execution_count": 50,
   "id": "58d7d430",
   "metadata": {},
   "outputs": [
    {
     "name": "stdout",
     "output_type": "stream",
     "text": [
      "2021-10-25    15309.463474\n",
      "2021-10-26    15551.386540\n",
      "2021-10-27    15479.066061\n",
      "2021-10-28    15512.858844\n",
      "2021-10-29    15497.983456\n",
      "2021-10-30    15504.575495\n",
      "2021-10-31    15501.656473\n",
      "2021-11-01    15502.949159\n",
      "2021-11-02    15502.376700\n",
      "2021-11-03    15502.630211\n",
      "2021-11-04    15502.517945\n",
      "2021-11-05    15502.567661\n",
      "2021-11-06    15502.545644\n",
      "2021-11-07    15502.555394\n",
      "2021-11-08    15502.551077\n",
      "2021-11-09    15502.552989\n",
      "2021-11-10    15502.552142\n",
      "2021-11-11    15502.552517\n",
      "2021-11-12    15502.552351\n",
      "2021-11-13    15502.552425\n",
      "2021-11-14    15502.552392\n",
      "2021-11-15    15502.552406\n",
      "2021-11-16    15502.552400\n",
      "2021-11-17    15502.552403\n",
      "2021-11-18    15502.552402\n",
      "2021-11-19    15502.552402\n",
      "2021-11-20    15502.552402\n",
      "2021-11-21    15502.552402\n",
      "2021-11-22    15502.552402\n",
      "2021-11-23    15502.552402\n",
      "2021-11-24    15502.552402\n",
      "2021-11-25    15502.552402\n",
      "Freq: D, Name: predicted_mean, dtype: float64\n"
     ]
    }
   ],
   "source": [
    "start = len(current_death_plot)\n",
    "end = len(current_death_plot) + len(testing_data) -1\n",
    "pred = model_fit.predict(start = start, end = end, typ = 'levels')\n",
    "\n",
    "index_future_dates = pd.date_range(start = '2021-10-25', end = '2021-11-25')\n",
    "\n",
    "pred.index = index_future_dates\n",
    "#print(current_death_plot.index[start: end + 1])\n",
    "print(pred)"
   ]
  },
  {
   "cell_type": "markdown",
   "id": "d339fe39",
   "metadata": {},
   "source": [
    "## SARIMA"
   ]
  },
  {
   "cell_type": "code",
   "execution_count": 29,
   "id": "5eeafe5e",
   "metadata": {},
   "outputs": [],
   "source": [
    "training_data1 = india_df['New Cases'][-500:]"
   ]
  },
  {
   "cell_type": "code",
   "execution_count": 32,
   "id": "beda1bc0",
   "metadata": {},
   "outputs": [
    {
     "data": {
      "image/png": "[encoded data removed]",
      "text/plain": [
       "<Figure size 864x576 with 2 Axes>"
      ]
     },
     "metadata": {},
     "output_type": "display_data"
    }
   ],
   "source": [
    "from statsmodels.graphics.tsaplots import plot_acf,plot_pacf\n",
    "import statsmodels.api as sm\n",
    "fig = plt.figure(figsize=(12,8))\n",
    "ax1 = fig.add_subplot(211)\n",
    "fig = sm.graphics.tsa.plot_acf(training_data1.diff()[1:], ax=ax1, lags = 250)\n",
    "ax2 = fig.add_subplot(212)\n",
    "fig = sm.graphics.tsa.plot_pacf(training_data1.diff()[1:], ax=ax2, lags = 225)"
   ]
  },
  {
   "cell_type": "code",
   "execution_count": 33,
   "id": "0358f10f",
   "metadata": {},
   "outputs": [
    {
     "data": {
      "image/png": "[encoded data removed]",
      "text/plain": [
       "<Figure size 864x576 with 2 Axes>"
      ]
     },
     "metadata": {},
     "output_type": "display_data"
    }
   ],
   "source": [
    "from statsmodels.graphics.tsaplots import plot_acf,plot_pacf\n",
    "import statsmodels.api as sm\n",
    "fig = plt.figure(figsize=(12,8))\n",
    "ax1 = fig.add_subplot(211)\n",
    "fig = sm.graphics.tsa.plot_acf(training_data1.diff()[1:], ax=ax1)\n",
    "ax2 = fig.add_subplot(212)\n",
    "fig = sm.graphics.tsa.plot_pacf(training_data1.diff()[1:], ax=ax2)"
   ]
  },
  {
   "cell_type": "markdown",
   "id": "545c9910",
   "metadata": {},
   "source": [
    "## Plots indicate SARIMA(1, 1, 1)(0, 0, 2, 3)"
   ]
  },
  {
   "cell_type": "code",
   "execution_count": 34,
   "id": "5712ea9b",
   "metadata": {},
   "outputs": [
    {
     "name": "stdout",
     "output_type": "stream",
     "text": [
      "Performing stepwise search to minimize aic\n",
      " ARIMA(2,1,2)(1,0,1)[3] intercept   : AIC=2430.965, Time=0.45 sec\n",
      " ARIMA(0,1,0)(0,0,0)[3] intercept   : AIC=2455.497, Time=0.01 sec\n",
      " ARIMA(1,1,0)(1,0,0)[3] intercept   : AIC=2447.057, Time=0.06 sec\n",
      " ARIMA(0,1,1)(0,0,1)[3] intercept   : AIC=2436.914, Time=0.06 sec\n",
      " ARIMA(0,1,0)(0,0,0)[3]             : AIC=2453.708, Time=0.01 sec\n",
      " ARIMA(2,1,2)(0,0,1)[3] intercept   : AIC=2431.510, Time=0.28 sec\n",
      " ARIMA(2,1,2)(1,0,0)[3] intercept   : AIC=2430.257, Time=0.27 sec\n",
      " ARIMA(2,1,2)(0,0,0)[3] intercept   : AIC=2433.073, Time=0.19 sec\n",
      " ARIMA(2,1,2)(2,0,0)[3] intercept   : AIC=2432.075, Time=0.27 sec\n",
      " ARIMA(2,1,2)(2,0,1)[3] intercept   : AIC=2432.960, Time=0.64 sec\n",
      " ARIMA(1,1,2)(1,0,0)[3] intercept   : AIC=2431.851, Time=0.11 sec\n",
      " ARIMA(2,1,1)(1,0,0)[3] intercept   : AIC=2430.240, Time=0.18 sec\n",
      " ARIMA(2,1,1)(0,0,0)[3] intercept   : AIC=2431.603, Time=0.12 sec\n",
      " ARIMA(2,1,1)(2,0,0)[3] intercept   : AIC=2432.183, Time=0.22 sec\n",
      " ARIMA(2,1,1)(1,0,1)[3] intercept   : AIC=2428.829, Time=0.35 sec\n",
      " ARIMA(2,1,1)(0,0,1)[3] intercept   : AIC=2428.353, Time=0.17 sec\n",
      " ARIMA(2,1,1)(0,0,2)[3] intercept   : AIC=2429.224, Time=0.27 sec\n",
      " ARIMA(2,1,1)(1,0,2)[3] intercept   : AIC=inf, Time=0.52 sec\n",
      " ARIMA(1,1,1)(0,0,1)[3] intercept   : AIC=2434.655, Time=0.07 sec\n",
      " ARIMA(2,1,0)(0,0,1)[3] intercept   : AIC=2430.183, Time=0.09 sec\n",
      " ARIMA(1,1,0)(0,0,1)[3] intercept   : AIC=2447.347, Time=0.04 sec\n",
      " ARIMA(1,1,2)(0,0,1)[3] intercept   : AIC=2432.106, Time=0.15 sec\n",
      " ARIMA(2,1,1)(0,0,1)[3]             : AIC=2427.325, Time=0.14 sec\n",
      " ARIMA(2,1,1)(0,0,0)[3]             : AIC=2427.813, Time=0.12 sec\n",
      " ARIMA(2,1,1)(1,0,1)[3]             : AIC=2428.208, Time=0.31 sec\n",
      " ARIMA(2,1,1)(0,0,2)[3]             : AIC=2428.659, Time=0.26 sec\n",
      " ARIMA(2,1,1)(1,0,0)[3]             : AIC=2428.636, Time=0.14 sec\n",
      " ARIMA(2,1,1)(1,0,2)[3]             : AIC=inf, Time=0.53 sec\n",
      " ARIMA(1,1,1)(0,0,1)[3]             : AIC=2427.060, Time=0.19 sec\n",
      " ARIMA(1,1,1)(0,0,0)[3]             : AIC=2427.938, Time=0.04 sec\n",
      " ARIMA(1,1,1)(1,0,1)[3]             : AIC=2428.423, Time=0.14 sec\n",
      " ARIMA(1,1,1)(0,0,2)[3]             : AIC=2427.002, Time=0.11 sec\n",
      " ARIMA(1,1,1)(1,0,2)[3]             : AIC=2427.650, Time=0.18 sec\n",
      " ARIMA(0,1,1)(0,0,2)[3]             : AIC=2433.987, Time=0.07 sec\n",
      " ARIMA(1,1,0)(0,0,2)[3]             : AIC=2445.672, Time=0.06 sec\n",
      " ARIMA(1,1,2)(0,0,2)[3]             : AIC=2427.040, Time=0.20 sec\n",
      " ARIMA(0,1,0)(0,0,2)[3]             : AIC=2452.929, Time=0.04 sec\n",
      " ARIMA(0,1,2)(0,0,2)[3]             : AIC=2425.142, Time=0.12 sec\n",
      " ARIMA(0,1,2)(0,0,1)[3]             : AIC=2424.426, Time=0.07 sec\n",
      " ARIMA(0,1,2)(0,0,0)[3]             : AIC=2424.723, Time=0.05 sec\n",
      " ARIMA(0,1,2)(1,0,1)[3]             : AIC=2426.101, Time=0.13 sec\n",
      " ARIMA(0,1,2)(1,0,0)[3]             : AIC=2424.155, Time=0.09 sec\n",
      " ARIMA(0,1,2)(2,0,0)[3]             : AIC=2425.969, Time=0.11 sec\n",
      " ARIMA(0,1,2)(2,0,1)[3]             : AIC=2427.132, Time=0.23 sec\n",
      " ARIMA(0,1,1)(1,0,0)[3]             : AIC=2433.895, Time=0.05 sec\n",
      " ARIMA(1,1,2)(1,0,0)[3]             : AIC=2426.091, Time=0.10 sec\n",
      " ARIMA(1,1,1)(1,0,0)[3]             : AIC=2426.523, Time=0.10 sec\n",
      " ARIMA(0,1,2)(1,0,0)[3] intercept   : AIC=2424.724, Time=0.26 sec\n",
      "\n",
      "Best model:  ARIMA(0,1,2)(1,0,0)[3]          \n",
      "Total fit time: 8.443 seconds\n"
     ]
    },
    {
     "data": {
      "text/html": [
       "<table class=\"simpletable\">\n",
       "<caption>SARIMAX Results</caption>\n",
       "<tr>\n",
       "  <th>Dep. Variable:</th>                  <td>y</td>               <th>  No. Observations:  </th>    <td>120</td>   \n",
       "</tr>\n",
       "<tr>\n",
       "  <th>Model:</th>           <td>SARIMAX(0, 1, 2)x(1, 0, [], 3)</td> <th>  Log Likelihood     </th> <td>-1208.077</td>\n",
       "</tr>\n",
       "<tr>\n",
       "  <th>Date:</th>                   <td>Sun, 28 Nov 2021</td>        <th>  AIC                </th> <td>2424.155</td> \n",
       "</tr>\n",
       "<tr>\n",
       "  <th>Time:</th>                       <td>11:03:56</td>            <th>  BIC                </th> <td>2435.271</td> \n",
       "</tr>\n",
       "<tr>\n",
       "  <th>Sample:</th>                         <td>0</td>               <th>  HQIC               </th> <td>2428.669</td> \n",
       "</tr>\n",
       "<tr>\n",
       "  <th></th>                             <td> - 120</td>             <th>                     </th>     <td> </td>    \n",
       "</tr>\n",
       "<tr>\n",
       "  <th>Covariance Type:</th>               <td>opg</td>              <th>                     </th>     <td> </td>    \n",
       "</tr>\n",
       "</table>\n",
       "<table class=\"simpletable\">\n",
       "<tr>\n",
       "     <td></td>        <th>coef</th>     <th>std err</th>      <th>z</th>      <th>P>|z|</th>  <th>[0.025</th>    <th>0.975]</th>  \n",
       "</tr>\n",
       "<tr>\n",
       "  <th>ma.L1</th>   <td>   -0.4526</td> <td>    0.040</td> <td>  -11.319</td> <td> 0.000</td> <td>   -0.531</td> <td>   -0.374</td>\n",
       "</tr>\n",
       "<tr>\n",
       "  <th>ma.L2</th>   <td>   -0.3024</td> <td>    0.079</td> <td>   -3.841</td> <td> 0.000</td> <td>   -0.457</td> <td>   -0.148</td>\n",
       "</tr>\n",
       "<tr>\n",
       "  <th>ar.S.L3</th> <td>    0.1276</td> <td>    0.077</td> <td>    1.665</td> <td> 0.096</td> <td>   -0.023</td> <td>    0.278</td>\n",
       "</tr>\n",
       "<tr>\n",
       "  <th>sigma2</th>  <td> 3.745e+07</td> <td> 2.28e-09</td> <td> 1.65e+16</td> <td> 0.000</td> <td> 3.74e+07</td> <td> 3.74e+07</td>\n",
       "</tr>\n",
       "</table>\n",
       "<table class=\"simpletable\">\n",
       "<tr>\n",
       "  <th>Ljung-Box (L1) (Q):</th>     <td>0.08</td> <th>  Jarque-Bera (JB):  </th> <td>1338.77</td>\n",
       "</tr>\n",
       "<tr>\n",
       "  <th>Prob(Q):</th>                <td>0.78</td> <th>  Prob(JB):          </th>  <td>0.00</td>  \n",
       "</tr>\n",
       "<tr>\n",
       "  <th>Heteroskedasticity (H):</th> <td>0.11</td> <th>  Skew:              </th>  <td>2.16</td>  \n",
       "</tr>\n",
       "<tr>\n",
       "  <th>Prob(H) (two-sided):</th>    <td>0.00</td> <th>  Kurtosis:          </th>  <td>18.85</td> \n",
       "</tr>\n",
       "</table><br/><br/>Warnings:<br/>[1] Covariance matrix calculated using the outer product of gradients (complex-step).<br/>[2] Covariance matrix is singular or near-singular, with condition number 4.33e+30. Standard errors may be unstable."
      ],
      "text/plain": [
       "<class 'statsmodels.iolib.summary.Summary'>\n",
       "\"\"\"\n",
       "                                     SARIMAX Results                                      \n",
       "==========================================================================================\n",
       "Dep. Variable:                                  y   No. Observations:                  120\n",
       "Model:             SARIMAX(0, 1, 2)x(1, 0, [], 3)   Log Likelihood               -1208.077\n",
       "Date:                            Sun, 28 Nov 2021   AIC                           2424.155\n",
       "Time:                                    11:03:56   BIC                           2435.271\n",
       "Sample:                                         0   HQIC                          2428.669\n",
       "                                            - 120                                         \n",
       "Covariance Type:                              opg                                         \n",
       "==============================================================================\n",
       "                 coef    std err          z      P>|z|      [0.025      0.975]\n",
       "------------------------------------------------------------------------------\n",
       "ma.L1         -0.4526      0.040    -11.319      0.000      -0.531      -0.374\n",
       "ma.L2         -0.3024      0.079     -3.841      0.000      -0.457      -0.148\n",
       "ar.S.L3        0.1276      0.077      1.665      0.096      -0.023       0.278\n",
       "sigma2      3.745e+07   2.28e-09   1.65e+16      0.000    3.74e+07    3.74e+07\n",
       "===================================================================================\n",
       "Ljung-Box (L1) (Q):                   0.08   Jarque-Bera (JB):              1338.77\n",
       "Prob(Q):                              0.78   Prob(JB):                         0.00\n",
       "Heteroskedasticity (H):               0.11   Skew:                             2.16\n",
       "Prob(H) (two-sided):                  0.00   Kurtosis:                        18.85\n",
       "===================================================================================\n",
       "\n",
       "Warnings:\n",
       "[1] Covariance matrix calculated using the outer product of gradients (complex-step).\n",
       "[2] Covariance matrix is singular or near-singular, with condition number 4.33e+30. Standard errors may be unstable.\n",
       "\"\"\""
      ]
     },
     "execution_count": 34,
     "metadata": {},
     "output_type": "execute_result"
    }
   ],
   "source": [
    "from pmdarima import auto_arima\n",
    "\n",
    "import warnings\n",
    "\n",
    "warnings.filterwarnings(\"ignore\")\n",
    "\n",
    "\n",
    "stepwise_fit = auto_arima(current_death_plot[\"New Cases\"], seasona=True, m = 3, stepwise=True, trace = True, suppress_warnings = True)\n",
    "\n",
    "stepwise_fit.summary()"
   ]
  },
  {
   "cell_type": "code",
   "execution_count": 58,
   "id": "e4cc314a",
   "metadata": {},
   "outputs": [
    {
     "data": {
      "text/html": [
       "<table class=\"simpletable\">\n",
       "<caption>SARIMAX Results</caption>\n",
       "<tr>\n",
       "  <th>Dep. Variable:</th>             <td>New Cases</td>           <th>  No. Observations:  </th>    <td>450</td>   \n",
       "</tr>\n",
       "<tr>\n",
       "  <th>Model:</th>           <td>SARIMAX(1, 1, 1)x(0, 0, 1, 3)</td> <th>  Log Likelihood     </th> <td>-4705.381</td>\n",
       "</tr>\n",
       "<tr>\n",
       "  <th>Date:</th>                  <td>Sun, 28 Nov 2021</td>        <th>  AIC                </th> <td>9418.762</td> \n",
       "</tr>\n",
       "<tr>\n",
       "  <th>Time:</th>                      <td>11:13:17</td>            <th>  BIC                </th> <td>9435.190</td> \n",
       "</tr>\n",
       "<tr>\n",
       "  <th>Sample:</th>                        <td>0</td>               <th>  HQIC               </th> <td>9425.237</td> \n",
       "</tr>\n",
       "<tr>\n",
       "  <th></th>                            <td> - 450</td>             <th>                     </th>     <td> </td>    \n",
       "</tr>\n",
       "<tr>\n",
       "  <th>Covariance Type:</th>              <td>opg</td>              <th>                     </th>     <td> </td>    \n",
       "</tr>\n",
       "</table>\n",
       "<table class=\"simpletable\">\n",
       "<tr>\n",
       "     <td></td>        <th>coef</th>     <th>std err</th>      <th>z</th>      <th>P>|z|</th>  <th>[0.025</th>    <th>0.975]</th>  \n",
       "</tr>\n",
       "<tr>\n",
       "  <th>ar.L1</th>   <td>   -0.6880</td> <td>    0.083</td> <td>   -8.324</td> <td> 0.000</td> <td>   -0.850</td> <td>   -0.526</td>\n",
       "</tr>\n",
       "<tr>\n",
       "  <th>ma.L1</th>   <td>    0.8136</td> <td>    0.081</td> <td>   10.056</td> <td> 0.000</td> <td>    0.655</td> <td>    0.972</td>\n",
       "</tr>\n",
       "<tr>\n",
       "  <th>ma.S.L3</th> <td>    0.0517</td> <td>    0.037</td> <td>    1.406</td> <td> 0.160</td> <td>   -0.020</td> <td>    0.124</td>\n",
       "</tr>\n",
       "<tr>\n",
       "  <th>sigma2</th>  <td> 7.545e+07</td> <td> 1.03e-09</td> <td> 7.31e+16</td> <td> 0.000</td> <td> 7.55e+07</td> <td> 7.55e+07</td>\n",
       "</tr>\n",
       "</table>\n",
       "<table class=\"simpletable\">\n",
       "<tr>\n",
       "  <th>Ljung-Box (L1) (Q):</th>     <td>0.09</td> <th>  Jarque-Bera (JB):  </th> <td>712.72</td>\n",
       "</tr>\n",
       "<tr>\n",
       "  <th>Prob(Q):</th>                <td>0.76</td> <th>  Prob(JB):          </th>  <td>0.00</td> \n",
       "</tr>\n",
       "<tr>\n",
       "  <th>Heteroskedasticity (H):</th> <td>1.75</td> <th>  Skew:              </th>  <td>0.12</td> \n",
       "</tr>\n",
       "<tr>\n",
       "  <th>Prob(H) (two-sided):</th>    <td>0.00</td> <th>  Kurtosis:          </th>  <td>9.17</td> \n",
       "</tr>\n",
       "</table><br/><br/>Warnings:<br/>[1] Covariance matrix calculated using the outer product of gradients (complex-step).<br/>[2] Covariance matrix is singular or near-singular, with condition number 3.69e+32. Standard errors may be unstable."
      ],
      "text/plain": [
       "<class 'statsmodels.iolib.summary.Summary'>\n",
       "\"\"\"\n",
       "                                     SARIMAX Results                                     \n",
       "=========================================================================================\n",
       "Dep. Variable:                         New Cases   No. Observations:                  450\n",
       "Model:             SARIMAX(1, 1, 1)x(0, 0, 1, 3)   Log Likelihood               -4705.381\n",
       "Date:                           Sun, 28 Nov 2021   AIC                           9418.762\n",
       "Time:                                   11:13:17   BIC                           9435.190\n",
       "Sample:                                        0   HQIC                          9425.237\n",
       "                                           - 450                                         \n",
       "Covariance Type:                             opg                                         \n",
       "==============================================================================\n",
       "                 coef    std err          z      P>|z|      [0.025      0.975]\n",
       "------------------------------------------------------------------------------\n",
       "ar.L1         -0.6880      0.083     -8.324      0.000      -0.850      -0.526\n",
       "ma.L1          0.8136      0.081     10.056      0.000       0.655       0.972\n",
       "ma.S.L3        0.0517      0.037      1.406      0.160      -0.020       0.124\n",
       "sigma2      7.545e+07   1.03e-09   7.31e+16      0.000    7.55e+07    7.55e+07\n",
       "===================================================================================\n",
       "Ljung-Box (L1) (Q):                   0.09   Jarque-Bera (JB):               712.72\n",
       "Prob(Q):                              0.76   Prob(JB):                         0.00\n",
       "Heteroskedasticity (H):               1.75   Skew:                             0.12\n",
       "Prob(H) (two-sided):                  0.00   Kurtosis:                         9.17\n",
       "===================================================================================\n",
       "\n",
       "Warnings:\n",
       "[1] Covariance matrix calculated using the outer product of gradients (complex-step).\n",
       "[2] Covariance matrix is singular or near-singular, with condition number 3.69e+32. Standard errors may be unstable.\n",
       "\"\"\""
      ]
     },
     "execution_count": 58,
     "metadata": {},
     "output_type": "execute_result"
    }
   ],
   "source": [
    "from statsmodels.tsa.statespace.sarimax import SARIMAX\n",
    "\n",
    "\n",
    "model=SARIMAX(training_data,order=(1,1,1), seasonal_order = (0, 0, 1, 3))\n",
    "model_fit1=model.fit(disp=0)\n",
    "model_fit1.summary()"
   ]
  },
  {
   "cell_type": "code",
   "execution_count": 59,
   "id": "04ae8302",
   "metadata": {},
   "outputs": [
    {
     "name": "stdout",
     "output_type": "stream",
     "text": [
      "2021-10-25    14343.648854\n",
      "2021-10-26    14343.648853\n",
      "2021-10-27    14343.648854\n",
      "2021-10-28    14343.648853\n",
      "2021-10-29    14343.648854\n",
      "2021-10-30    14343.648854\n",
      "2021-10-31    14343.648854\n",
      "2021-11-01    14343.648854\n",
      "2021-11-02    14343.648854\n",
      "2021-11-03    14343.648854\n",
      "2021-11-04    14343.648854\n",
      "2021-11-05    14343.648854\n",
      "2021-11-06    14343.648854\n",
      "2021-11-07    14343.648854\n",
      "2021-11-08    14343.648854\n",
      "2021-11-09    14343.648854\n",
      "2021-11-10    14343.648854\n",
      "2021-11-11    14343.648854\n",
      "2021-11-12    14343.648854\n",
      "2021-11-13    14343.648854\n",
      "2021-11-14    14343.648854\n",
      "2021-11-15    14343.648854\n",
      "2021-11-16    14343.648854\n",
      "2021-11-17    14343.648854\n",
      "2021-11-18    14343.648854\n",
      "2021-11-19    14343.648854\n",
      "2021-11-20    14343.648854\n",
      "2021-11-21    14343.648854\n",
      "2021-11-22    14343.648854\n",
      "2021-11-23    14343.648854\n",
      "2021-11-24    14343.648854\n",
      "2021-11-25    14343.648854\n",
      "Freq: D, Name: predicted_mean, dtype: float64\n"
     ]
    }
   ],
   "source": [
    "start = len(training_data1)\n",
    "end = len(training_data1) + len(testing_data) -1\n",
    "pred1 = model_fit1.predict(start = start, end = end, typ = 'levels')\n",
    "\n",
    "index_future_dates = pd.date_range(start = '2021-10-25', end = '2021-11-25')\n",
    "\n",
    "pred1.index = index_future_dates\n",
    "#print(current_death_plot.index[start: end + 1])\n",
    "print(pred1)"
   ]
  },
  {
   "cell_type": "code",
   "execution_count": 60,
   "id": "18b33b7e",
   "metadata": {},
   "outputs": [
    {
     "data": {
      "text/plain": [
       "<matplotlib.legend.Legend at 0x17d668c27f0>"
      ]
     },
     "execution_count": 60,
     "metadata": {},
     "output_type": "execute_result"
    },
    {
     "data": {
      "image/png": "[encoded data removed]",
      "text/plain": [
       "<Figure size 864x216 with 1 Axes>"
      ]
     },
     "metadata": {},
     "output_type": "display_data"
    }
   ],
   "source": [
    "sns.set(font_scale=0.8)\n",
    "\n",
    "plt.figure(figsize = (12, 3))\n",
    "\n",
    "plt.plot(pred, label ='ARIMA')\n",
    "plt.plot(pred1, label ='SARIMA')\n",
    "plt.plot(test[\"New Cases\"], label ='Actual')\n",
    "\n",
    "plt.legend(loc =\"best\")"
   ]
  },
  {
   "cell_type": "code",
   "execution_count": 78,
   "id": "522ad37f",
   "metadata": {},
   "outputs": [
    {
     "name": "stdout",
     "output_type": "stream",
     "text": [
      "1 Day Ahead Forecast\n",
      "ARIMA - 2881.4634744228933\n",
      "SARIMA - 1915.6488541686758\n"
     ]
    }
   ],
   "source": [
    "# For 1 Day Ahead Forecast\n",
    "from math import sqrt\n",
    "\n",
    "print(\"1 Day Ahead Forecast\")\n",
    "print(\"ARIMA -\", sqrt((pred[0] - test.iloc[0][\"New Cases\"])**2))\n",
    "print(\"SARIMA -\", sqrt((pred1[0] - test.iloc[0][\"New Cases\"])**2))"
   ]
  },
  {
   "cell_type": "code",
   "execution_count": 79,
   "id": "4f5b6cfb",
   "metadata": {},
   "outputs": [
    {
     "name": "stdout",
     "output_type": "stream",
     "text": [
      "7 Day Ahead Forecast\n",
      "ARIMA -  2688.380218270449\n",
      "SARIMA -  1896.1257435415707\n"
     ]
    }
   ],
   "source": [
    "# For 7 Day Ahead Forecast\n",
    "from statsmodels.tools.eval_measures import rmse\n",
    "\n",
    "print(\"7 Day Ahead Forecast\")\n",
    "print(\"ARIMA - \", rmse(pred[:8], test.iloc[:8][\"New Cases\"]))\n",
    "print(\"SARIMA - \", rmse(pred1[:8], test.iloc[:8][\"New Cases\"]))"
   ]
  },
  {
   "cell_type": "code",
   "execution_count": 81,
   "id": "47a37564",
   "metadata": {},
   "outputs": [
    {
     "name": "stdout",
     "output_type": "stream",
     "text": [
      "1 Month Ahead Forecast\n",
      "ARIMA -  4457.518921452215\n",
      "SARIMA -  3434.1858625005348\n"
     ]
    }
   ],
   "source": [
    "# For 1 Month Ahead Forecast\n",
    "from statsmodels.tools.eval_measures import rmse\n",
    "\n",
    "print(\"1 Month Ahead Forecast\")\n",
    "print(\"ARIMA - \", rmse(pred, test[\"New Cases\"]))\n",
    "print(\"SARIMA - \", rmse(pred1, test[\"New Cases\"]))"
   ]
  },
  {
   "cell_type": "markdown",
   "id": "bcc9f1f8",
   "metadata": {},
   "source": [
    "## Predicting Vaccination Rate"
   ]
  },
  {
   "cell_type": "code",
   "execution_count": 106,
   "id": "303ae60e",
   "metadata": {},
   "outputs": [
    {
     "data": {
      "text/html": [
       "<div>\n",
       "<style scoped>\n",
       "    .dataframe tbody tr th:only-of-type {\n",
       "        vertical-align: middle;\n",
       "    }\n",
       "\n",
       "    .dataframe tbody tr th {\n",
       "        vertical-align: top;\n",
       "    }\n",
       "\n",
       "    .dataframe thead th {\n",
       "        text-align: right;\n",
       "    }\n",
       "</style>\n",
       "<table border=\"1\" class=\"dataframe\">\n",
       "  <thead>\n",
       "    <tr style=\"text-align: right;\">\n",
       "      <th></th>\n",
       "      <th>total_vaccinations</th>\n",
       "    </tr>\n",
       "    <tr>\n",
       "      <th>date</th>\n",
       "      <th></th>\n",
       "    </tr>\n",
       "  </thead>\n",
       "  <tbody>\n",
       "    <tr>\n",
       "      <th>2021-11-21</th>\n",
       "      <td>1168057227</td>\n",
       "    </tr>\n",
       "    <tr>\n",
       "      <th>2021-11-22</th>\n",
       "      <td>1175843376</td>\n",
       "    </tr>\n",
       "    <tr>\n",
       "      <th>2021-11-23</th>\n",
       "      <td>1183947210</td>\n",
       "    </tr>\n",
       "    <tr>\n",
       "      <th>2021-11-24</th>\n",
       "      <td>1193769229</td>\n",
       "    </tr>\n",
       "    <tr>\n",
       "      <th>2021-11-25</th>\n",
       "      <td>1198528642</td>\n",
       "    </tr>\n",
       "  </tbody>\n",
       "</table>\n",
       "</div>"
      ],
      "text/plain": [
       "            total_vaccinations\n",
       "date                          \n",
       "2021-11-21          1168057227\n",
       "2021-11-22          1175843376\n",
       "2021-11-23          1183947210\n",
       "2021-11-24          1193769229\n",
       "2021-11-25          1198528642"
      ]
     },
     "execution_count": 106,
     "metadata": {},
     "output_type": "execute_result"
    }
   ],
   "source": [
    "vac_url = \"https://raw.githubusercontent.com/owid/covid-19-data/master/public/data/vaccinations/country_data/India.csv\"\n",
    "\n",
    "vac_df = pd.read_csv(vac_url)\n",
    "\n",
    "vac_df.index = pd.to_datetime(vac_df.date)\n",
    "vac_df = vac_df.drop(labels=[\"date\",\"vaccine\", \"location\", \"people_vaccinated\", \"people_fully_vaccinated\", \"source_url\",\"total_boosters\"], axis=1)\n",
    "\n",
    "\n",
    "vac_df.tail()\n",
    "\n",
    "train_vac = vac_df.iloc[:-33]\n",
    "test_vac = vac_df.iloc[-33:-1]\n",
    "\n",
    "#print(train_vac.tail())\n",
    "test_vac.tail()"
   ]
  },
  {
   "cell_type": "code",
   "execution_count": 107,
   "id": "cbba9851",
   "metadata": {},
   "outputs": [
    {
     "data": {
      "image/png": "[encoded data removed]",
      "text/plain": [
       "<Figure size 864x216 with 1 Axes>"
      ]
     },
     "metadata": {},
     "output_type": "display_data"
    }
   ],
   "source": [
    "sns.set(font_scale=0.8)\n",
    "\n",
    "plt.figure(figsize = (12, 3))\n",
    "\n",
    "ax = sns.lineplot(x = vac_df.index, y  = \"total_vaccinations\", data = vac_df)\n",
    "\n",
    "plt.title(\"Total Vaccinations in India\")\n",
    "plt.show()"
   ]
  },
  {
   "cell_type": "code",
   "execution_count": 108,
   "id": "cd853f1d",
   "metadata": {},
   "outputs": [
    {
     "name": "stdout",
     "output_type": "stream",
     "text": [
      "ADF Test Statistic : 1.3631259456359566\n",
      "p-value : 0.9969400182483313\n",
      "#Lags Used : 12\n",
      "Number of Observations Used : 292\n",
      "weak evidence against null hypothesis, time series has a unit root, indicating it is non-stationary \n"
     ]
    }
   ],
   "source": [
    "### Testing For Stationarity\n",
    "\n",
    "from statsmodels.tsa.stattools import adfuller\n",
    "#test_result=adfuller(total_death_plot.iloc[-100:]['new_cases'])\n",
    "\n",
    "\n",
    "#Ho: It is non stationary\n",
    "#H1: It is stationary\n",
    "\n",
    "def adfuller_test(data):\n",
    "    result=adfuller(data)\n",
    "    labels = ['ADF Test Statistic','p-value','#Lags Used','Number of Observations Used']\n",
    "    for value,label in zip(result,labels):\n",
    "        print(label+' : '+str(value) )\n",
    "    if result[1] <= 0.05:\n",
    "        print(\"strong evidence against the null hypothesis(Ho), reject the null hypothesis. Data has no unit root and is stationary\")\n",
    "    else:\n",
    "        print(\"weak evidence against null hypothesis, time series has a unit root, indicating it is non-stationary \")\n",
    "        \n",
    "adfuller_test(vac_df[\"total_vaccinations\"])"
   ]
  },
  {
   "cell_type": "markdown",
   "id": "081cd17f",
   "metadata": {},
   "source": [
    "# PACF And ACF Plots"
   ]
  },
  {
   "cell_type": "code",
   "execution_count": 110,
   "id": "3f88ed02",
   "metadata": {},
   "outputs": [
    {
     "data": {
      "image/png": "[encoded data removed]",
      "text/plain": [
       "<Figure size 864x576 with 2 Axes>"
      ]
     },
     "metadata": {},
     "output_type": "display_data"
    }
   ],
   "source": [
    "from statsmodels.graphics.tsaplots import plot_acf,plot_pacf\n",
    "import statsmodels.api as sm\n",
    "fig = plt.figure(figsize=(12,8))\n",
    "ax1 = fig.add_subplot(211)\n",
    "fig = sm.graphics.tsa.plot_acf(train_vac[\"total_vaccinations\"].diff().diff()[2:], ax=ax1)\n",
    "ax2 = fig.add_subplot(212)\n",
    "fig = sm.graphics.tsa.plot_pacf(train_vac[\"total_vaccinations\"].diff().diff()[2:], ax=ax2)"
   ]
  },
  {
   "cell_type": "markdown",
   "id": "51f3245e",
   "metadata": {},
   "source": [
    "# ARIMA(4, 2, 1)"
   ]
  },
  {
   "cell_type": "code",
   "execution_count": 112,
   "id": "4308a94a",
   "metadata": {},
   "outputs": [
    {
     "name": "stdout",
     "output_type": "stream",
     "text": [
      "Performing stepwise search to minimize aic\n",
      " ARIMA(2,2,2)(0,0,0)[0]             : AIC=8647.305, Time=0.14 sec\n",
      " ARIMA(0,2,0)(0,0,0)[0]             : AIC=8783.396, Time=0.01 sec\n",
      " ARIMA(1,2,0)(0,0,0)[0]             : AIC=8712.014, Time=0.02 sec\n",
      " ARIMA(0,2,1)(0,0,0)[0]             : AIC=8642.913, Time=0.05 sec\n",
      " ARIMA(1,2,1)(0,0,0)[0]             : AIC=8644.747, Time=0.08 sec\n",
      " ARIMA(0,2,2)(0,0,0)[0]             : AIC=8643.625, Time=0.06 sec\n",
      " ARIMA(1,2,2)(0,0,0)[0]             : AIC=8645.432, Time=0.08 sec\n",
      " ARIMA(0,2,1)(0,0,0)[0] intercept   : AIC=8646.709, Time=0.07 sec\n",
      "\n",
      "Best model:  ARIMA(0,2,1)(0,0,0)[0]          \n",
      "Total fit time: 0.511 seconds\n"
     ]
    },
    {
     "data": {
      "text/html": [
       "<table class=\"simpletable\">\n",
       "<caption>SARIMAX Results</caption>\n",
       "<tr>\n",
       "  <th>Dep. Variable:</th>           <td>y</td>        <th>  No. Observations:  </th>    <td>272</td>   \n",
       "</tr>\n",
       "<tr>\n",
       "  <th>Model:</th>           <td>SARIMAX(0, 2, 1)</td> <th>  Log Likelihood     </th> <td>-4319.457</td>\n",
       "</tr>\n",
       "<tr>\n",
       "  <th>Date:</th>            <td>Sun, 28 Nov 2021</td> <th>  AIC                </th> <td>8642.913</td> \n",
       "</tr>\n",
       "<tr>\n",
       "  <th>Time:</th>                <td>11:36:44</td>     <th>  BIC                </th> <td>8650.110</td> \n",
       "</tr>\n",
       "<tr>\n",
       "  <th>Sample:</th>                  <td>0</td>        <th>  HQIC               </th> <td>8645.803</td> \n",
       "</tr>\n",
       "<tr>\n",
       "  <th></th>                      <td> - 272</td>      <th>                     </th>     <td> </td>    \n",
       "</tr>\n",
       "<tr>\n",
       "  <th>Covariance Type:</th>        <td>opg</td>       <th>                     </th>     <td> </td>    \n",
       "</tr>\n",
       "</table>\n",
       "<table class=\"simpletable\">\n",
       "<tr>\n",
       "     <td></td>       <th>coef</th>     <th>std err</th>      <th>z</th>      <th>P>|z|</th>  <th>[0.025</th>    <th>0.975]</th>  \n",
       "</tr>\n",
       "<tr>\n",
       "  <th>ma.L1</th>  <td>   -0.8717</td> <td>    0.030</td> <td>  -29.120</td> <td> 0.000</td> <td>   -0.930</td> <td>   -0.813</td>\n",
       "</tr>\n",
       "<tr>\n",
       "  <th>sigma2</th> <td> 5.234e+12</td> <td> 2.71e-16</td> <td> 1.93e+28</td> <td> 0.000</td> <td> 5.23e+12</td> <td> 5.23e+12</td>\n",
       "</tr>\n",
       "</table>\n",
       "<table class=\"simpletable\">\n",
       "<tr>\n",
       "  <th>Ljung-Box (L1) (Q):</th>     <td>0.08</td>  <th>  Jarque-Bera (JB):  </th> <td>347.56</td>\n",
       "</tr>\n",
       "<tr>\n",
       "  <th>Prob(Q):</th>                <td>0.78</td>  <th>  Prob(JB):          </th>  <td>0.00</td> \n",
       "</tr>\n",
       "<tr>\n",
       "  <th>Heteroskedasticity (H):</th> <td>20.27</td> <th>  Skew:              </th>  <td>1.16</td> \n",
       "</tr>\n",
       "<tr>\n",
       "  <th>Prob(H) (two-sided):</th>    <td>0.00</td>  <th>  Kurtosis:          </th>  <td>8.05</td> \n",
       "</tr>\n",
       "</table><br/><br/>Warnings:<br/>[1] Covariance matrix calculated using the outer product of gradients (complex-step).<br/>[2] Covariance matrix is singular or near-singular, with condition number    inf. Standard errors may be unstable."
      ],
      "text/plain": [
       "<class 'statsmodels.iolib.summary.Summary'>\n",
       "\"\"\"\n",
       "                               SARIMAX Results                                \n",
       "==============================================================================\n",
       "Dep. Variable:                      y   No. Observations:                  272\n",
       "Model:               SARIMAX(0, 2, 1)   Log Likelihood               -4319.457\n",
       "Date:                Sun, 28 Nov 2021   AIC                           8642.913\n",
       "Time:                        11:36:44   BIC                           8650.110\n",
       "Sample:                             0   HQIC                          8645.803\n",
       "                                - 272                                         \n",
       "Covariance Type:                  opg                                         \n",
       "==============================================================================\n",
       "                 coef    std err          z      P>|z|      [0.025      0.975]\n",
       "------------------------------------------------------------------------------\n",
       "ma.L1         -0.8717      0.030    -29.120      0.000      -0.930      -0.813\n",
       "sigma2      5.234e+12   2.71e-16   1.93e+28      0.000    5.23e+12    5.23e+12\n",
       "===================================================================================\n",
       "Ljung-Box (L1) (Q):                   0.08   Jarque-Bera (JB):               347.56\n",
       "Prob(Q):                              0.78   Prob(JB):                         0.00\n",
       "Heteroskedasticity (H):              20.27   Skew:                             1.16\n",
       "Prob(H) (two-sided):                  0.00   Kurtosis:                         8.05\n",
       "===================================================================================\n",
       "\n",
       "Warnings:\n",
       "[1] Covariance matrix calculated using the outer product of gradients (complex-step).\n",
       "[2] Covariance matrix is singular or near-singular, with condition number    inf. Standard errors may be unstable.\n",
       "\"\"\""
      ]
     },
     "execution_count": 112,
     "metadata": {},
     "output_type": "execute_result"
    }
   ],
   "source": [
    "from pmdarima import auto_arima\n",
    "\n",
    "import warnings\n",
    "\n",
    "warnings.filterwarnings(\"ignore\")\n",
    "\n",
    "\n",
    "stepwise_fit = auto_arima(train_vac[\"total_vaccinations\"], d = 2, stepwise=True, trace = True, suppress_warnings = True)\n",
    "\n",
    "stepwise_fit.summary()"
   ]
  },
  {
   "cell_type": "code",
   "execution_count": 114,
   "id": "ebd2b2af",
   "metadata": {},
   "outputs": [
    {
     "name": "stdout",
     "output_type": "stream",
     "text": [
      "2021-10-25    1.028198e+09\n",
      "2021-10-26    1.034166e+09\n",
      "2021-10-27    1.040090e+09\n",
      "2021-10-28    1.045928e+09\n",
      "2021-10-29    1.051835e+09\n",
      "2021-10-30    1.057742e+09\n",
      "2021-10-31    1.063653e+09\n",
      "2021-11-01    1.069565e+09\n",
      "2021-11-02    1.075475e+09\n",
      "2021-11-03    1.081385e+09\n",
      "2021-11-04    1.087295e+09\n",
      "2021-11-05    1.093206e+09\n",
      "2021-11-06    1.099116e+09\n",
      "2021-11-07    1.105026e+09\n",
      "2021-11-08    1.110936e+09\n",
      "2021-11-09    1.116846e+09\n",
      "2021-11-10    1.122756e+09\n",
      "2021-11-11    1.128666e+09\n",
      "2021-11-12    1.134576e+09\n",
      "2021-11-13    1.140486e+09\n",
      "2021-11-14    1.146396e+09\n",
      "2021-11-15    1.152306e+09\n",
      "2021-11-16    1.158216e+09\n",
      "2021-11-17    1.164126e+09\n",
      "2021-11-18    1.170036e+09\n",
      "2021-11-19    1.175947e+09\n",
      "2021-11-20    1.181857e+09\n",
      "2021-11-21    1.187767e+09\n",
      "2021-11-22    1.193677e+09\n",
      "2021-11-23    1.199587e+09\n",
      "2021-11-24    1.205497e+09\n",
      "2021-11-25    1.211407e+09\n",
      "Freq: D, Name: predicted_mean, dtype: float64\n"
     ]
    }
   ],
   "source": [
    "from statsmodels.tsa.arima.model import ARIMA\n",
    "\n",
    "testing_data = test\n",
    "\n",
    "vac_model=ARIMA(train_vac[\"total_vaccinations\"],order=(4, 2, 1))\n",
    "vac_model_fit=vac_model.fit()\n",
    "\n",
    "vac_model_fit.summary()\n",
    "\n",
    "start = len(train_vac)\n",
    "end = len(train_vac) + len(test_vac) -1\n",
    "vac_pred = vac_model_fit.predict(start = start, end = end, typ = 'levels')\n",
    "\n",
    "index_future_dates = pd.date_range(start = '2021-10-25', end = '2021-11-25')\n",
    "\n",
    "vac_pred.index = index_future_dates\n",
    "#print(current_death_plot.index[start: end + 1])\n",
    "print(vac_pred)"
   ]
  },
  {
   "cell_type": "code",
   "execution_count": 115,
   "id": "cf5094ac",
   "metadata": {},
   "outputs": [
    {
     "data": {
      "text/plain": [
       "<matplotlib.legend.Legend at 0x17d615b40d0>"
      ]
     },
     "execution_count": 115,
     "metadata": {},
     "output_type": "execute_result"
    },
    {
     "data": {
      "image/png": "[encoded data removed]",
      "text/plain": [
       "<Figure size 864x216 with 1 Axes>"
      ]
     },
     "metadata": {},
     "output_type": "display_data"
    }
   ],
   "source": [
    "sns.set(font_scale=0.8)\n",
    "\n",
    "plt.figure(figsize = (12, 3))\n",
    "\n",
    "plt.plot(vac_pred, label ='ARIMA')\n",
    "plt.plot(test_vac[\"total_vaccinations\"], label ='Actual')\n",
    "\n",
    "plt.legend(loc =\"best\")"
   ]
  },
  {
   "cell_type": "code",
   "execution_count": 116,
   "id": "1e422d3a",
   "metadata": {},
   "outputs": [
    {
     "name": "stdout",
     "output_type": "stream",
     "text": [
      "1 Month Ahead Forecast\n",
      "ARIMA -  17305161.435187403\n"
     ]
    }
   ],
   "source": [
    "# For 1 Month Ahead Forecast\n",
    "from statsmodels.tools.eval_measures import rmse\n",
    "\n",
    "print(\"1 Month Ahead Forecast\")\n",
    "print(\"ARIMA - \", rmse(vac_pred, test_vac[\"total_vaccinations\"]))"
   ]
  },
  {
   "cell_type": "code",
   "execution_count": null,
   "id": "0d6408fa",
   "metadata": {},
   "outputs": [],
   "source": []
  }
 ],
 "metadata": {
  "kernelspec": {
   "display_name": "Python 3",
   "language": "python",
   "name": "python3"
  },
  "language_info": {
   "codemirror_mode": {
    "name": "ipython",
    "version": 3
   },
   "file_extension": ".py",
   "mimetype": "text/x-python",
   "name": "python",
   "nbconvert_exporter": "python",
   "pygments_lexer": "ipython3",
   "version": "3.8.8"
  }
 },
 "nbformat": 4,
 "nbformat_minor": 5
}
