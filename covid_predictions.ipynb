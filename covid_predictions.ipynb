{
 "cells": [
  {
   "cell_type": "code",
   "execution_count": 2,
   "metadata": {},
   "outputs": [
    {
     "ename": "SyntaxError",
     "evalue": "closing parenthesis ')' does not match opening parenthesis '[' (<ipython-input-2-10540df89ce2>, line 5)",
     "output_type": "error",
     "traceback": [
      "\u001b[1;36m  File \u001b[1;32m\"<ipython-input-2-10540df89ce2>\"\u001b[1;36m, line \u001b[1;32m5\u001b[0m\n\u001b[1;33m    [\"iso_code\",\"continent\",\"location\",\"date\",\"total_cases\",\"new_cases\",\"new_cases_smoothed\",\"total_deaths\",\"new_deaths\",\"new_deaths_smoothed\",\"total_cases_per_million\",\"new_cases_per_million\",\"new_cases_smoothed_per_million\",\"total_deaths_per_million\",\"new_deaths_per_million\",\"new_deaths_smoothed_per_million\",\"reproduction_rate\",\"icu_patients\",\"icu_patients_per_million\",hosp_patients,hosp_patients_per_million,weekly_icu_admissions,weekly_icu_admissions_per_million,weekly_hosp_admissions,weekly_hosp_admissions_per_million,new_tests,total_tests,total_tests_per_thousand,new_tests_per_thousand,new_tests_smoothed,new_tests_smoothed_per_thousand,positive_rate,tests_per_case,tests_units,total_vaccinations,people_vaccinated,people_fully_vaccinated,new_vaccinations,new_vaccinations_smoothed,total_vaccinations_per_hundred,people_vaccinated_per_hundred,people_fully_vaccinated_per_hundred,new_vaccinations_smoothed_per_million,stringency_index,population,population_density,median_age,aged_65_older,aged_70_older,gdp_per_capita,extreme_poverty,cardiovasc_death_rate,diabetes_prevalence,female_smokers,male_smokers,handwashing_facilities,hospital_beds_per_thousand,life_expectancy,human_development_index)\u001b[0m\n\u001b[1;37m                                                                                                                                                                                                                                                                                                                                                                                                                                                                                                                                                                                                                                                                                                                                                                                                                                                                                                                                                                                                                                                                                                                                                                                                                                                     ^\u001b[0m\n\u001b[1;31mSyntaxError\u001b[0m\u001b[1;31m:\u001b[0m closing parenthesis ')' does not match opening parenthesis '['\n"
     ]
    }
   ],
   "source": [
    "import numpy as np\n",
    "import pandas as pd\n",
    "\n",
    "df = pd.read_csv(\"https://covid.ourworldindata.org/data/owid-covid-data.csv\", header = None, names = \n",
    "[\"iso_code\",\"continent\",\"location\",\"date\",\"total_cases\",\"new_cases\",\"new_cases_smoothed\",\"total_deaths\",\"new_deaths\",\"new_deaths_smoothed\",\"total_cases_per_million\",\"new_cases_per_million\",\"new_cases_smoothed_per_million\",\"total_deaths_per_million\",\"new_deaths_per_million\",\"new_deaths_smoothed_per_million\",\"reproduction_rate\",\"icu_patients\",\"icu_patients_per_million\",\"hosp_patients\",\"hosp_patients_per_million\",\"weekly_icu_admissions\",\"weekly_icu_admissions_per_million\",\"weekly_hosp_admissions\",\"weekly_hosp_admissions_per_million\",\"new_tests\",\"total_tests\",\"total_tests_per_thousand\",\"new_tests_per_thousand\",\"new_tests_smoothed\",\"new_tests_smoothed_per_thousand\",\"positive_rate\",\"tests_per_case\",\"tests_units\",\"total_vaccinations\",\"people_vaccinated\",\"people_fully_vaccinated\",\"new_vaccinations\",\"new_vaccinations_smoothed\",\"total_vaccinations_per_hundred\",\"people_vaccinated_per_hundred\",\"people_fully_vaccinated_per_hundred\",\"new_vaccinations_smoothed_per_million\",\"stringency_index\",\"population\",\"population_density\",\"median_age\",\"aged_65_older\",aged_70_older,gdp_per_capita,extreme_poverty,cardiovasc_death_rate,diabetes_prevalence,female_smokers,male_smokers,handwashing_facilities,hospital_beds_per_thousand,life_expectancy,human_development_index)"
   ]
  },
  {
   "cell_type": "code",
   "execution_count": null,
   "metadata": {},
   "outputs": [],
   "source": []
  }
 ],
 "metadata": {
  "kernelspec": {
   "display_name": "Python 3",
   "language": "python",
   "name": "python3"
  },
  "language_info": {
   "codemirror_mode": {
    "name": "ipython",
    "version": 3
   },
   "file_extension": ".py",
   "mimetype": "text/x-python",
   "name": "python",
   "nbconvert_exporter": "python",
   "pygments_lexer": "ipython3",
   "version": "3.8.5"
  }
 },
 "nbformat": 4,
 "nbformat_minor": 4
}
